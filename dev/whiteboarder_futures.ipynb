{
  "nbformat": 4,
  "nbformat_minor": 0,
  "metadata": {
    "colab": {
      "name": "whiteboarder_futures.ipynb",
      "provenance": []
    },
    "kernelspec": {
      "name": "python3",
      "display_name": "Python 3"
    }
  },
  "cells": [
    {
      "cell_type": "markdown",
      "metadata": {
        "id": "E012Wi7rPFbZ",
        "colab_type": "text"
      },
      "source": [
        "# Whiteboard futures"
      ]
    },
    {
      "cell_type": "markdown",
      "metadata": {
        "id": "uaqz7zyC47ZC",
        "colab_type": "text"
      },
      "source": [
        "# ----[ Future work below here ]----\n",
        "\n",
        "Below here is future work. All but not started but with enough text and picures to show lines along which things could develop."
      ]
    },
    {
      "cell_type": "markdown",
      "metadata": {
        "id": "sU_8rvrKEM8Z",
        "colab_type": "text"
      },
      "source": [
        "Sreeni's pipeline\n",
        "- Denoise\n",
        "- Threshold\n",
        "- `binary_opening()`\n",
        "- `binary_closeing()`"
      ]
    },
    {
      "cell_type": "markdown",
      "metadata": {
        "id": "ef_XNQ0N5ZYc",
        "colab_type": "text"
      },
      "source": [
        "# White balance\n",
        "\n",
        "Qs and Is:\n",
        "- If we know the 4 colors (black, red, blue, green) then perhaps try to detect them in RAW and then \"white balance\" to those.\n",
        "What's the relation to contrast and balance? Are those color concepts?\n",
        "- Would this be relevant for RAW images?\n",
        "- UI to drag-pick known point to call white."
      ]
    },
    {
      "cell_type": "markdown",
      "metadata": {
        "id": "FJYAKp7WKCL1",
        "colab_type": "text"
      },
      "source": [
        "\n",
        "- [Tutorials: White Balance](https://www.cambridgeincolour.com/tutorials/white-balance.htm) from a generic photographer perspective, good intro\n",
        "- [Color Balance in Digital Imaging](https://www.microscopyu.com/digital-imaging/color-balance-in-digital-imaging) on microscopyu.com\n",
        "- Some hand coding:\n",
        "  - [Correcting image white balance with Python PIL and Numpy](https://codeandlife.com/2019/08/17/correcting-image-white-balance-with-python-pil-and-numpy/)\n",
        "  - [Automatic White Balancing with Grayworld assumption\n",
        "](https://stackoverflow.com/questions/46390779/automatic-white-balancing-with-grayworld-assumption)\n",
        "\n",
        "\n",
        "\n",
        "[White Balance a photo from a known point](https://stackoverflow.com/a/54481969/4669056):\n",
        ">The computation of lum will be better if using proper weights: 0.2126, 0.7152, 0.0722"
      ]
    },
    {
      "cell_type": "markdown",
      "metadata": {
        "id": "OV2Q2C8XpetO",
        "colab_type": "text"
      },
      "source": [
        "## Simple White Balance\n",
        "\n",
        "I think this might have started as this Matlab code [simplestColorBalance.m](https://web.stanford.edu/~sujason/ColorBalancing/simplestcb.html#nogo), as [discussed on stackoverflow](https://stackoverflow.com/a/49481583/4669056).\n",
        "\n",
        "- https://stackoverflow.com/a/49481583/4669056\n",
        "  - https://gist.github.com/DavidYKay/9dad6c4ab0d8d7dbf3dc"
      ]
    },
    {
      "cell_type": "markdown",
      "metadata": {
        "id": "Cw8LAj9TKjpl",
        "colab_type": "text"
      },
      "source": [
        "## Xphoto\n",
        "https://stackoverflow.com/a/49836244/4669056:\n",
        "\n",
        ">The answer can be found in [the xphoto documentation](https://docs.opencv.org/3.4.1/df/db9/namespacecv_1_1xphoto.html)\n",
        ".  \n",
        ">The appropriate methods to create the WB algorithms are createSimpleWB(), createLearningBasedWB() and createGrayworldWB().  \n",
        "> &nbsp;   \n",
        ">Example:\n",
        "```python\n",
        "wb = cv2.xphoto.createGrayworldWB()\n",
        "wb.setSaturationThreshold(0.99)\n",
        "image = wb.balanceWhite(image)\n",
        "```\n"
      ]
    },
    {
      "cell_type": "markdown",
      "metadata": {
        "id": "39jJAJDDlE5_",
        "colab_type": "text"
      },
      "source": [
        "```\n",
        "simple_wb = cv2.xphoto.createSimpleWB()\n",
        "simple_img = simple_wb.balanceWhite(cv2_img)\n",
        "\n",
        "gray_wb = cv2.xphoto.createGrayworldWB()\n",
        "gray_wb.setSaturationThreshold(0.99)\n",
        "gray_img = gray_wb.balanceWhite(cv2_img)\n",
        "\n",
        "learning_wb = cv2.xphoto.createLearningBasedWB()\n",
        "learning_img = learning_wb.balanceWhite(cv2_img)\n",
        "\n",
        "show_cv2_img(cv2_img)\n",
        "show_cv2_img(simple_img)\n",
        "show_cv2_img(gray_img)\n",
        "show_cv2_img(learning_img)\n",
        "\n",
        "```"
      ]
    },
    {
      "cell_type": "markdown",
      "metadata": {
        "id": "zef-7VKXqKPo",
        "colab_type": "text"
      },
      "source": [
        "## Learning white balance\n",
        "\n",
        "https://docs.opencv.org/master/dc/dcb/tutorial_xphoto_training_white_balance.html\n",
        "\n",
        ">Many traditional white balance algorithms are statistics-based, i.e. they rely on the fact that certain assumptions should hold in properly white-balanced images like the well-known grey-world assumption. However, better results can often be achieved by leveraging large datasets of images with ground-truth illuminants in a learning-based framework. This tutorial demonstrates how to train a learning-based white balance algorithm and evaluate the quality of the results."
      ]
    },
    {
      "cell_type": "markdown",
      "metadata": {
        "id": "cEDVZSy0Wyli",
        "colab_type": "text"
      },
      "source": [
        "## Learning to see in the dark\n",
        "\n",
        "- https://cchen156.github.io/\n",
        "  - https://cchen156.github.io/paper/18CVPR_SID.pdf\n",
        "- https://twitter.com/johntigue/status/1258179099199041536\n",
        "- https://github.com/cydonia999/Learning_to_See_in_the_Dark_PyTorch\n",
        "\n",
        "In:  \n",
        "<img src=\"https://github.com/cydonia999/Learning_to_See_in_the_Dark_PyTorch/raw/master/results/10106_00_30s.png\" />\n",
        "\n",
        "Out:  \n",
        "<img src=\"https://github.com/cydonia999/Learning_to_See_in_the_Dark_PyTorch/raw/master/results/10106_00_0.1s_pytorch.png\" />\n"
      ]
    },
    {
      "cell_type": "markdown",
      "metadata": {
        "id": "2F1grqiOCuV9",
        "colab_type": "text"
      },
      "source": [
        "# Color \n",
        "[What about sns.pairplot. Scatter is not histo but it's still color analysis. So, this should be moved to \"Color stats\"?]\n",
        "\n",
        "Separately it is describe in [Combo Charts with Seaborn and Python](https://towardsdatascience.com/combo-charts-with-seaborn-and-python-2bc911a08950)\n"
      ]
    },
    {
      "cell_type": "markdown",
      "metadata": {
        "id": "okZtsgEukgNc",
        "colab_type": "text"
      },
      "source": [
        "## OpenCV vs skimage color"
      ]
    },
    {
      "cell_type": "markdown",
      "metadata": {
        "id": "gmtPedBd9qP7",
        "colab_type": "text"
      },
      "source": [
        "Here's someone who has already gone through the OpenCV on Colab tire kicking:\n",
        "[Computer Vision - Instructional Exercise](https://colab.research.google.com/drive/1RWGmqoEQdeyh5TssoGtsXsFk8hbLGtWp). "
      ]
    },
    {
      "cell_type": "markdown",
      "metadata": {
        "id": "c9FfzlnwkMqC",
        "colab_type": "text"
      },
      "source": [
        "One is float 0..1, and other is uint8\n",
        "```python\n",
        "print(f'skimage: {grayed_image[0,0]}')\n",
        "print(f'OpenCV: {cv2_grayed[0,0]}')\n",
        "```\n",
        "\n",
        "There seems to be a hassle on Colab WRT OpenCV. OpenCV used BGR color order, the reverse of the web's RGB order from HTML and CSS. But Colab doesn't like OpenCV's display utilities so we need to use something else, necessitating a translation from BGR => RGB.\n",
        "\n",
        "Simply feeding a OpenCV image to Matplotlib will cause the colors to be interpreted as RGB, but they are really BGR. Notice how the pizza slice is blue in the following image (it should be red)."
      ]
    },
    {
      "cell_type": "code",
      "metadata": {
        "id": "V_4H3cHx9DDV",
        "colab_type": "code",
        "colab": {}
      },
      "source": [
        "def show_cv2_img(a_cv2_img):\n",
        "  \"\"\"cv2's BGR => normal world RGB => MPL show()\"\"\"\n",
        "  imgrgb = cv2.cvtColor(a_cv2_img, cv2.COLOR_BGR2RGB)\n",
        "  #sns.set_style('dark')\n",
        "  plt.imshow(imgrgb)\n",
        "  plt.show()\n",
        "show_cv2_img(cv2_img)\n"
      ],
      "execution_count": 0,
      "outputs": []
    },
    {
      "cell_type": "code",
      "metadata": {
        "id": "qzUjRJHxg6bL",
        "colab_type": "code",
        "colab": {}
      },
      "source": [
        "plt.rcParams[\"axes.grid\"] = False\n",
        "_ = plt.imshow(cv2_img) # ERROR: feeding BGR color; expects RGB color"
      ],
      "execution_count": 0,
      "outputs": []
    },
    {
      "cell_type": "code",
      "metadata": {
        "id": "98Nx8ZKN9Pn9",
        "colab_type": "code",
        "colab": {}
      },
      "source": [
        "# TODO: temp patched on 2020-04-24\n",
        "# Original code that Colab eventually disabled: \n",
        "#   cv2.imshow(\"gray\", gray)\n",
        "# See  https://github.com/reconstrue/brightfield/issues/206\n",
        "# They suggested instead:\n",
        "# from google.colab.patches import cv2_imshow\n",
        "\n",
        "google.colab.patches.cv2_imshow(cv2_img)\n"
      ],
      "execution_count": 0,
      "outputs": []
    },
    {
      "cell_type": "markdown",
      "metadata": {
        "id": "B1TIgBXFBDbH",
        "colab_type": "text"
      },
      "source": [
        "## Color histogram\n",
        "\n",
        "Technically, [brightness is not a color property, if used \"correctly\".](http://www.workwithcolor.com/color-properties-definitions-0101.htm) \n",
        "\n",
        "[Clever Girl: A Guide to Utilizing Color Histograms for Computer Vision and Image Search Engines](https://www.pyimagesearch.com/2014/01/22/clever-girl-a-guide-to-utilizing-color-histograms-for-computer-vision-and-image-search-engines/) has 3 \"2d histograms\" of R_vs_G, R_vs_B, B_vs_G."
      ]
    },
    {
      "cell_type": "markdown",
      "metadata": {
        "id": "JCF_1kUjDnb9",
        "colab_type": "text"
      },
      "source": [
        "[An idea: do a grayscale intensity distribution. Think of each histogram bar as a stack of pixels, all \n",
        "with the same intensity. Then use Datashader to plot the \"histogram\" by plotting each pixel in its original color on the histogram. Within each bar, sort by color and then plot the bar with those colors (ergo the reason to use Datashader).]"
      ]
    },
    {
      "cell_type": "markdown",
      "metadata": {
        "id": "s74dtnILc5-f",
        "colab_type": "text"
      },
      "source": [
        "Next is the per-channel histogram. Each of the 3 color channels is extracted in the only logical fashion: as the three channel slice 2D arrays. The fourth line (gray) is the one where there are two ways to proceed; choise depends on what you want to show. \n",
        "\n",
        "One way is to look at it as total: just `ravel()` all the values from the 3 channel slices into one shapeless bucket of unit8's and histogram the total. This technique is used in, for example, [Histograms in Image Processing with skimage-Python](https://towardsdatascience.com/histograms-in-image-processing-with-skimage-python-be5938962935):\n",
        "```pyton\n",
        "_ = plt.hist(image.ravel(), bins = 256, color = 'lightgray', ) # ravel() 3 colors together\n",
        "_ = plt.hist(image[:, :, 0].ravel(), bins = 256, color = 'red', alpha = 0.5)\n",
        "_ = plt.hist(image[:, :, 1].ravel(), bins = 256, color = 'Green', alpha = 0.5)\n",
        "_ = plt.hist(image[:, :, 2].ravel(), bins = 256, color = 'Blue', alpha = 0.5)\n",
        "```\n",
        "\n",
        "\n",
        "The other way is: show the perceived grayscale intensity. The latter is arguably more valuable for this whiteboarder project. In other words, the gray will maintain its meaning from the above plot of grayscale intensities.\n",
        "\n",
        "Note this means that we should not attempt to convert some color image, `a_color_image` (x,y,3), to grayscale by simply calling `a_color_image.ravel()`. Calling `ravel()` will return an array of uint8 whi\n",
        "ch is 3 times x times y. What we actually want is an array the same size as the number of pixels, not 3 times that full of numbers which do not correspond to human perceived luminance of the color image, rather simply the RGB colors broken apart to R, G, B.\n"
      ]
    },
    {
      "cell_type": "code",
      "metadata": {
        "id": "OeUenKqhdXeK",
        "colab_type": "code",
        "cellView": "form",
        "colab": {}
      },
      "source": [
        "#@markdown Image color channels dissociated\n",
        "image = skimage.io.imread(in_file_name)\n",
        "\n",
        "plt.figure(figsize=(12,8))\n",
        "_ = plt.hist(image.ravel(), bins = 256, color = 'lightgray', ) # TODO: ravel() a color img? image = io.imread(in_file)\n",
        "_ = plt.hist(image[:, :, 0].ravel(), bins = 256, color = 'red', alpha = 0.5)\n",
        "_ = plt.hist(image[:, :, 1].ravel(), bins = 256, color = 'Green', alpha = 0.5)\n",
        "_ = plt.hist(image[:, :, 2].ravel(), bins = 256, color = 'Blue', alpha = 0.5)\n",
        "_ = plt.xlabel('Intensity Value')\n",
        "_ = plt.ylabel('Count')\n",
        "_ = plt.legend(['Total', 'Red_Channel', 'Green_Channel', 'Blue_Channel'])\n",
        "\n",
        "plt.rcParams[\"axes.grid\"] = False\n",
        "plt.rcParams[\"patch.linewidth\"] = 0.001 # suppress plotting error noise\n",
        "plt.show()"
      ],
      "execution_count": 0,
      "outputs": []
    },
    {
      "cell_type": "markdown",
      "metadata": {
        "id": "2V_EiwUsdPe_",
        "colab_type": "text"
      },
      "source": [
        "An visual cleaner version of roughly the same can be found in [OpenCV's demo hist](https://docs.opencv.org/master/d1/db7/tutorial_py_histogram_begins.html). Notice how intensities without any pixel are not as clearly represented.\n"
      ]
    },
    {
      "cell_type": "code",
      "metadata": {
        "id": "Nw4P8C1rdHVq",
        "colab_type": "code",
        "colab": {}
      },
      "source": [
        "color = ('b','g','r')\n",
        "for i,col in enumerate(color):\n",
        "    histr = cv2.calcHist([cv2_img],[i],None,[256],[0,256])\n",
        "    plt.plot(histr,color = col)\n",
        "    plt.xlim([0,256])\n",
        "plt.show()"
      ],
      "execution_count": 0,
      "outputs": []
    },
    {
      "cell_type": "markdown",
      "metadata": {
        "id": "VAagZe1GV2Yz",
        "colab_type": "text"
      },
      "source": [
        "## Color windowing\n",
        "The following is a 3-band windower which is then used as mask [[*](https://medium.com/@ckyrkou/color-thresholding-in-opencv-91049607b06d)]:\n",
        "```python\n",
        "lower_color_bounds = cv.Scalar(100, 0, 0)\n",
        "upper_color_bounds = cv.Scalar(225,80,80)\n",
        " \n",
        "gray = cv2.cvtColor(frame,cv2.COLOR_BGR2GRAY) # Note, gray is never used\n",
        "mask = cv2.inRange(frame,lower_color_bounds,upper_color_bounds )\n",
        "mask_rgb = cv2.cvtColor(mask,cv2.COLOR_GRAY2BGR)\n",
        "frame = frame & mask_rgb\n",
        "cv2.imshow(‘Video’,frame)\n",
        "```\n"
      ]
    },
    {
      "cell_type": "markdown",
      "metadata": {
        "id": "GCEPeRuBc-BU",
        "colab_type": "text"
      },
      "source": [
        "## Exposure and brightness sliders?\n",
        "\n",
        "[Tim Grey](http://asktimgrey.com/2016/07/11/exposure-versus-brightness/):\n",
        ">the Exposure slider (such as that in Lightroom and Adobe Camera Raw) will use a scale based on exposure value (EV), which is measured in stops of light.\n",
        ">\n",
        ">A brightness adjustment also obviously adjusts the overall tonal values for an image, though with an adjustment typically measured as an overall percentage rather than exposure values.\n"
      ]
    },
    {
      "cell_type": "markdown",
      "metadata": {
        "id": "ODhC6gEX7zLW",
        "colab_type": "text"
      },
      "source": [
        "## Saturation \n",
        "\n",
        "[Saturation is a feature of color](http://www.workwithcolor.com/color-properties-definitions-0101.htm):\n",
        ">Saturation is a color term commonly used by (digital / analog) imaging experts.\n",
        ">Saturation is usually one property of three when used to determine a certain color and measured as percentage value.\n"
      ]
    },
    {
      "cell_type": "markdown",
      "metadata": {
        "id": "qVVhlzXHR8vt",
        "colab_type": "text"
      },
      "source": [
        "## Color brightening\n",
        "\n",
        "There is also more verbose options. Note this is color being saturated by first converted BRG to HSV, then fucking with V, finally back to RGB:\n",
        ">The other answers suggest doing the saturation \"by hand\" using all kinds of numpy magic, but you can also use cv2.add() and let OpenCV handle that for you:\n",
        "```python\n",
        "import cv2\n",
        "import numpy as np\n",
        "image = cv2.read('image.png')\n",
        "hsv = cv2.cvtColor(image, cv2.COLOR_BGR2HSV)\n",
        "value = 42 #whatever value you want to add\n",
        "cv2.add(hsv[:,:,2], value, hsv[:,:,2])\n",
        "image = cv2.cvtColor(hsv, cv2.COLOR_HSV2BGR)\n",
        "cv2.imwrite('out.png', image)\n",
        "```\n",
        "\n",
        "Or less elegantly:\n",
        "```python\n",
        "img = cv2.imread('test.jpg') #load rgb image\n",
        "hsv = cv2.cvtColor(img, cv2.COLOR_BGR2HSV) #convert it to hsv\n",
        "\n",
        "h, s, v = cv2.split(hsv)\n",
        "v += 255\n",
        "final_hsv = cv2.merge((h, s, v))\n",
        "\n",
        "img = cv2.cvtColor(final_hsv, cv2.COLOR_HSV2BGR)\n",
        "cv2.imwrite(\"image_processed.jpg\", img)\n",
        "```\n",
        "\n"
      ]
    },
    {
      "cell_type": "markdown",
      "metadata": {
        "id": "qK4LG3K2iR9J",
        "colab_type": "text"
      },
      "source": [
        "## Pixels projected to color space\n"
      ]
    },
    {
      "cell_type": "markdown",
      "metadata": {
        "id": "n0U_lYUs47Uq",
        "colab_type": "text"
      },
      "source": [
        "Consider this image from [Clever Girl: A Guide to Utilizing Color Histograms for Computer Vision and Image Search Engines](https://www.pyimagesearch.com/2014/01/22/clever-girl-a-guide-to-utilizing-color-histograms-for-computer-vision-and-image-search-engines/)\n",
        "\n",
        "<img src=\"https://pyimagesearch.com/wp-content/uploads/2014/01/grant-2d-histograms.png\" />\n",
        "\n",
        "[Note how it calls a heatmap a color 2D histogram. I guess one could have a grayscale 2D histogram. TODO: Turbo it.]\n",
        "\n",
        "Those are 3 sides of a cube. That cube volume is color space. One could almost think of this as a 3D histogram, except that really stretched the definition of histogram (what's the alternative a vector field? A normal histogram would just colapse to a line of various luminances or hue?). Each pixel from the 2D image is actually a 3-part chunk of info (R,G,B). So, use those values to project to 3D, each voxel a histogram bin, colored via Turbo or similar. Then the 2D projections of that 3D volume will be those \"3 sides of a cube\" which is UI that Plotly has built-in.\n",
        "\n",
        "Finally, there are multiple cubes: one for each color coding:\n",
        "- RGB\n",
        "- HSV\n",
        "- L*ab\n",
        "\n",
        "OpenCV has easy functions for that: [cvtColor and friends](https://docs.opencv.org/2.4/modules/imgproc/doc/miscellaneous_transformations.html#cvtcolor).\n",
        "\n",
        "Would be nice to have dual 3d viewer: orignal color or heat as seen here."
      ]
    },
    {
      "cell_type": "markdown",
      "metadata": {
        "id": "H8sZXfX35oz1",
        "colab_type": "text"
      },
      "source": [
        "# Microscopy techniques\n",
        "\n",
        "Whiteboard images are kinda like brightfield microscopy images.\n",
        "\n",
        "[23 - Histogram based image segmentation in Python](https://www.youtube.com/watch?v=kIVk0IhDMwY)\n",
        "\n",
        "\n"
      ]
    },
    {
      "cell_type": "markdown",
      "metadata": {
        "id": "wVGwX_CB9Rxa",
        "colab_type": "text"
      },
      "source": [
        "## Edge detection\n",
        "\n",
        "Perhaps an edge filter then add that to the output image, as well, thereby enhancing egdes in image?\n",
        "\n",
        "- [Sreeni #26 - Denoising and edge detection using opencv in Python](https://www.youtube.com/watch?v=-Qnb8Wv2p1c&list=PLZsOBAyNTZwYx-7GylDo3LSYpSompzsqW&index=12), he likes\n",
        "  - cv2.medianBlur is good to keep edges \n",
        "  - bilateralFilter() even better at sharp edges\n",
        "  - second video where he likes the non-local means filter (NLMF) (not-impl'd herein)\n",
        "  - cv2.Canny()"
      ]
    },
    {
      "cell_type": "markdown",
      "metadata": {
        "id": "vcQyAa082-YQ",
        "colab_type": "text"
      },
      "source": [
        "## Random walker\n",
        "\n",
        "Is this like FFNs?\n",
        "\n",
        "- [Sreeni #24 - `Random` Walker segmentation in Python](https://www.youtube.com/watch?v=6P8YhJa2V6o)\n",
        "- [skimage random walker](https://scikit-image.org/docs/dev/auto_examples/segmentation/plot_random_walker_segmentation.html)\n"
      ]
    },
    {
      "cell_type": "markdown",
      "metadata": {
        "id": "IycDLLeUHNd8",
        "colab_type": "text"
      },
      "source": [
        "### Color thresholding\n",
        "\n",
        "[Color Thresholding in OpenCV](https://medium.com/@ckyrkou/color-thresholding-in-opencv-91049607b06d) say define an upper and a lower bound color.\n",
        "\n",
        "```python\n",
        "lower_color_bounds = cv.Scalar(100, 0, 0)\n",
        "upper_color_bounds = cv.Scalar(225,80,80)\n",
        "\n",
        "gray = cv2.cvtColor(frame,cv2.COLOR_BGR2GRAY) # Note, gray is never used\n",
        "mask = cv2.inRange(frame,lower_color_bounds,upper_color_bounds )\n",
        "mask_rgb = cv2.cvtColor(mask,cv2.COLOR_GRAY2BGR)\n",
        "frame = frame & mask_rgb\n",
        "cv2.imshow(‘Video’,frame)\n",
        "```"
      ]
    },
    {
      "cell_type": "markdown",
      "metadata": {
        "id": "jhx_PzM_VO2h",
        "colab_type": "text"
      },
      "source": [
        "**Triple RangerSliders**\n",
        "TODO: 3 sliders for 3 color channels. That's the controls to the 3 color range filter.\n",
        "\n",
        "<img src=\"http://help.brain-map.org/download/attachments/2588674/ImageControl.PNG?version=1&modificationDate=1393875335570&api=v2\" width=\"33%\" />\n",
        "\n",
        "But in the end this sort of thing can go only so far: limited to defining a sub-cuboid of the 3D color space. Irregular clusters in that 3D space cannot be expressed with this sort of UI control."
      ]
    },
    {
      "cell_type": "markdown",
      "metadata": {
        "id": "2syAW3OqZKgK",
        "colab_type": "text"
      },
      "source": [
        "# Classification to color"
      ]
    },
    {
      "cell_type": "markdown",
      "metadata": {
        "id": "5W4MQ06Uhafq",
        "colab_type": "text"
      },
      "source": [
        "This would be cool: black, red, green, blue regions of the 3D color space:\n",
        "\n",
        "1.   List item\n",
        "2.   List item\n",
        "\n",
        "\n",
        "\n",
        "<a href=\"https://www.researchgate.net/figure/Visualization-of-the-separating-hyper-surface-of-the-SVM-to-classify-planes-blue-cones_fig4_281438978\"><img src=\"https://www.researchgate.net/profile/Pascal_Laube/publication/281438978/figure/fig4/AS:436310147112970@1481035853224/Visualization-of-the-separating-hyper-surface-of-the-SVM-to-classify-planes-blue-cones.png\" width=\"60%\" /></a>\n",
        "\n",
        "So, that's pixels (R,G,B) projected to (X,Y,Z) where they become voxels with the same original (R,G,B) color, then half opaque clustering areas are drawn with the 4 colors."
      ]
    },
    {
      "cell_type": "markdown",
      "metadata": {
        "id": "CZdNhjYABnF6",
        "colab_type": "text"
      },
      "source": [
        "## Only five colors\n",
        "\n",
        "Statistically, black is the most commonly found in the wild pen color, with red as a distant second. The most common multi-color packaging is the 4-pack:\n",
        "- Black\n",
        "- Red\n",
        "- Green\n",
        "- …and Blue\n",
        "\n",
        "The whiteboard is white, or transparent, but it is a fifth class."
      ]
    },
    {
      "cell_type": "markdown",
      "metadata": {
        "id": "urLf76VzWULK",
        "colab_type": "text"
      },
      "source": [
        "## K-Means color classification\n",
        "\n",
        "If the goal is an image with only five colors (including the white background), then this might well be a situation within which to apply [K-Means](https://www.youtube.com/watch?v=EItlUEPCIzM) classification. K-Means would have 5 cluster-means a priori, one for each of the four colors and the background.\n",
        "\n",
        "So, in this case the answer classifies each pixel to one of five colors i.e. the number of classes is known a priori. Sounds like K-Means should be dusted off: [51 - Image Segmentation using K-means](https://www.youtube.com/watch?v=6CqRnx6Ic48).\n",
        "\n",
        "Note that this concept is very similar but nonetheless distinct from [labeled patch-based classification of images, e.g. [Clustering 9: image representation](https://www.youtube.com/watch?v=yDi2uX5tihc).\n",
        "\n",
        "The 3D color space cube might well be good user interface widget to set the init cluster centers. \n",
        "\n",
        "What about HDBSCAN type stuff i.e. classify but don't necessarily partition.\n",
        "\n",
        "- [StatQuest: K-means clustering](https://www.youtube.com/watch?v=4b5d3muPQmA)\n"
      ]
    },
    {
      "cell_type": "markdown",
      "metadata": {
        "id": "s5rs9ZHtTJGa",
        "colab_type": "text"
      },
      "source": [
        "## Color classifier pipeline\n",
        "\n",
        "Maybe:\n",
        "1. anything above a max is whited (and that's transparent). \n",
        "2. Anything below a min is black? \n",
        "3. then red and green should be seperable in the middle by histogram? OTSU? K-Means? SVM?\n",
        "\n",
        "Or maybe:\n",
        "1. segment background and force white\n",
        "2. Then separate remainder into black, red, green, blue... somehow\n",
        "\n",
        "In the end after classifying each pixel, those that belong to classes Red, Green, and Blue should be set to that class' desired RGB color. In skimage this is known as [Tinting gray-scale images](https://scikit-image.org/docs/dev/auto_examples/color_exposure/plot_tinting_grayscale_images.html), and [Painting images with labels](https://scikit-image.org/docs/dev/user_guide/transforming_image_data.html#painting-images-with-labels):\n",
        ">label2rgb() can be used to superimpose colors on a grayscale image using an array of labels to encode the regions to be represented with the same color.\n",
        "\n"
      ]
    },
    {
      "cell_type": "markdown",
      "metadata": {
        "id": "ygV_88ddaW7J",
        "colab_type": "text"
      },
      "source": [
        "# SVM\n",
        "\n",
        "<a href=\"https://techwithtim.net/tutorials/machine-learning-python/svm-2/\"><img src=\"https://techwithtim.net/wp-content/uploads/2019/01/svm8.png\" width=\"75%\"/></a>\n",
        "\n",
        "Once pixels are projected to a 3D color space, perhaps SVMs can partition them.\n",
        "\n",
        "- sklearn\n",
        "  - https://towardsdatascience.com/a-friendly-introduction-to-support-vector-machines-svm-925b68c5a079\n",
        "  - https://scikit-learn.org/stable/modules/svm.html\n",
        "  - https://towardsdatascience.com/the-complete-guide-to-support-vector-machine-svm-f1a820d8af0b"
      ]
    },
    {
      "cell_type": "code",
      "metadata": {
        "id": "6Tm6c-4KaGym",
        "colab_type": "code",
        "colab": {
          "base_uri": "https://localhost:8080/",
          "height": 321
        },
        "outputId": "09fa38cc-7685-4e73-aebc-1fabb99cc66b"
      },
      "source": [
        "from IPython.lib.display import YouTubeVideo\n",
        "YouTubeVideo('_PwhiWxHK8o')"
      ],
      "execution_count": 1,
      "outputs": [
        {
          "output_type": "execute_result",
          "data": {
            "text/html": [
              "\n",
              "        <iframe\n",
              "            width=\"400\"\n",
              "            height=\"300\"\n",
              "            src=\"https://www.youtube.com/embed/_PwhiWxHK8o\"\n",
              "            frameborder=\"0\"\n",
              "            allowfullscreen\n",
              "        ></iframe>\n",
              "        "
            ],
            "text/plain": [
              "<IPython.lib.display.YouTubeVideo at 0x7f37e29c12b0>"
            ],
            "image/jpeg": "[encoded data removed]"
          },
          "metadata": {
            "tags": []
          },
          "execution_count": 1
        }
      ]
    },
    {
      "cell_type": "markdown",
      "metadata": {
        "id": "L1Q0wds4CzNk",
        "colab_type": "text"
      },
      "source": [
        "# Dimensionality reduction\n",
        "\n",
        "Neighborhooders (tSNE, UMAP, etc.) can easily project 3D color space to 2D, and then cluster pixels to classify to color.\n",
        "\n",
        "5D = (x,y) (r,g,b) and a CNN would know neighborhood to detect line segments..."
      ]
    },
    {
      "cell_type": "markdown",
      "metadata": {
        "id": "MbodBJaCZJl9",
        "colab_type": "text"
      },
      "source": [
        "# Handprint ICR\n",
        "\n",
        "Intelligent Character Recognition ([ICR](https://www.efilecabinet.com/the-difference-between-ocr-and-icr-and-why-it-matters-for-organizations-using-dms/)) is the term of art for OCR specific to handprint (block letters, as opposed to cursive handwriting).\n",
        "\n",
        "Clearly this should be experimented with. Nothing has been done at all. \n",
        "\n",
        "Where is handwriting recog at WRT cursive?\n"
      ]
    }
  ]
}